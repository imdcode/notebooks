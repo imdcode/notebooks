{
  "nbformat": 4,
  "nbformat_minor": 0,
  "metadata": {
    "colab": {
      "name": "Testes.ipynb",
      "provenance": [],
      "collapsed_sections": [],
      "authorship_tag": "ABX9TyP2w3sWM9KFcGDy4rZAmAYV",
      "include_colab_link": true
    },
    "kernelspec": {
      "name": "python3",
      "display_name": "Python 3"
    },
    "language_info": {
      "name": "python"
    }
  },
  "cells": [
    {
      "cell_type": "markdown",
      "metadata": {
        "id": "view-in-github",
        "colab_type": "text"
      },
      "source": [
        "<a href=\"https://colab.research.google.com/github/imdcode/notebooks/blob/main/Testes.ipynb\" target=\"_parent\"><img src=\"https://colab.research.google.com/assets/colab-badge.svg\" alt=\"Open In Colab\"/></a>"
      ]
    },
    {
      "cell_type": "code",
      "metadata": {
        "colab": {
          "base_uri": "https://localhost:8080/"
        },
        "id": "iD15i5rrOay1",
        "outputId": "e75e92b6-f533-4b40-c345-c97ffc1285e7"
      },
      "source": [
        "!pip install metakernel"
      ],
      "execution_count": 1,
      "outputs": [
        {
          "output_type": "stream",
          "name": "stdout",
          "text": [
            "Requirement already satisfied: metakernel in /usr/local/lib/python3.7/dist-packages (0.27.5)\n",
            "Requirement already satisfied: pexpect>=4.2 in /usr/local/lib/python3.7/dist-packages (from metakernel) (4.8.0)\n",
            "Requirement already satisfied: ipykernel in /usr/local/lib/python3.7/dist-packages (from metakernel) (4.10.1)\n",
            "Requirement already satisfied: ptyprocess>=0.5 in /usr/local/lib/python3.7/dist-packages (from pexpect>=4.2->metakernel) (0.7.0)\n",
            "Requirement already satisfied: jupyter-client in /usr/local/lib/python3.7/dist-packages (from ipykernel->metakernel) (5.3.5)\n",
            "Requirement already satisfied: traitlets>=4.1.0 in /usr/local/lib/python3.7/dist-packages (from ipykernel->metakernel) (5.1.0)\n",
            "Requirement already satisfied: tornado>=4.0 in /usr/local/lib/python3.7/dist-packages (from ipykernel->metakernel) (5.1.1)\n",
            "Requirement already satisfied: ipython>=4.0.0 in /usr/local/lib/python3.7/dist-packages (from ipykernel->metakernel) (5.5.0)\n",
            "Requirement already satisfied: decorator in /usr/local/lib/python3.7/dist-packages (from ipython>=4.0.0->ipykernel->metakernel) (4.4.2)\n",
            "Requirement already satisfied: setuptools>=18.5 in /usr/local/lib/python3.7/dist-packages (from ipython>=4.0.0->ipykernel->metakernel) (57.4.0)\n",
            "Requirement already satisfied: pygments in /usr/local/lib/python3.7/dist-packages (from ipython>=4.0.0->ipykernel->metakernel) (2.6.1)\n",
            "Requirement already satisfied: simplegeneric>0.8 in /usr/local/lib/python3.7/dist-packages (from ipython>=4.0.0->ipykernel->metakernel) (0.8.1)\n",
            "Requirement already satisfied: prompt-toolkit<2.0.0,>=1.0.4 in /usr/local/lib/python3.7/dist-packages (from ipython>=4.0.0->ipykernel->metakernel) (1.0.18)\n",
            "Requirement already satisfied: pickleshare in /usr/local/lib/python3.7/dist-packages (from ipython>=4.0.0->ipykernel->metakernel) (0.7.5)\n",
            "Requirement already satisfied: six>=1.9.0 in /usr/local/lib/python3.7/dist-packages (from prompt-toolkit<2.0.0,>=1.0.4->ipython>=4.0.0->ipykernel->metakernel) (1.15.0)\n",
            "Requirement already satisfied: wcwidth in /usr/local/lib/python3.7/dist-packages (from prompt-toolkit<2.0.0,>=1.0.4->ipython>=4.0.0->ipykernel->metakernel) (0.2.5)\n",
            "Requirement already satisfied: pyzmq>=13 in /usr/local/lib/python3.7/dist-packages (from jupyter-client->ipykernel->metakernel) (22.3.0)\n",
            "Requirement already satisfied: jupyter-core>=4.6.0 in /usr/local/lib/python3.7/dist-packages (from jupyter-client->ipykernel->metakernel) (4.8.1)\n",
            "Requirement already satisfied: python-dateutil>=2.1 in /usr/local/lib/python3.7/dist-packages (from jupyter-client->ipykernel->metakernel) (2.8.2)\n"
          ]
        }
      ]
    },
    {
      "cell_type": "code",
      "metadata": {
        "id": "QCC7u7zNOzmj"
      },
      "source": [
        "# Enables the pythontutor\n",
        "from metakernel import register_ipython_magics\n",
        "register_ipython_magics()"
      ],
      "execution_count": 2,
      "outputs": []
    },
    {
      "cell_type": "code",
      "metadata": {
        "colab": {
          "base_uri": "https://localhost:8080/",
          "height": 521
        },
        "id": "eR4jFxzqO4e-",
        "outputId": "d3643f73-3995-4388-c12c-f1642430b9c6"
      },
      "source": [
        "%%tutor\n",
        "\n",
        "\n",
        "# Starting with an empty list (rememebr ctrl+? will do # haha good shortcut)\n",
        "\n",
        "users = []\n",
        "users.append('val')\n",
        "users.append('bob')\n",
        "users.append('mia')\n",
        "users\n",
        "# Inserting elements at a particualr position\n",
        "users.insert(0, 'joe')\n",
        "users.insert(3, 'bea')\n",
        "\n",
        "# Changing an element\n",
        "users[0] = 'valerie'\n",
        "users[-2] = 'ronald'\n",
        "\n",
        "# Adding an element to the end of the list\n",
        "users.append('Amy')\n"
      ],
      "execution_count": 5,
      "outputs": [
        {
          "output_type": "display_data",
          "data": {
            "text/html": [
              "\n",
              "        <iframe\n",
              "            width=\"100%\"\n",
              "            height=\"500\"\n",
              "            src=\"https://pythontutor.com/iframe-embed.html#code=%0A%0A%23%20Starting%20with%20an%20empty%20list%20%28rememebr%20ctrl%2B%3F%20will%20do%20%23%20haha%20good%20shortcut%29%0A%0Ausers%20%3D%20%5B%5D%0Ausers.append%28%27val%27%29%0Ausers.append%28%27bob%27%29%0Ausers.append%28%27mia%27%29%0Ausers%0A%23%20Inserting%20elements%20at%20a%20particualr%20position%0Ausers.insert%280%2C%20%27joe%27%29%0Ausers.insert%283%2C%20%27bea%27%29%0A%0A%23%20Changing%20an%20element%0Ausers%5B0%5D%20%3D%20%27valerie%27%0Ausers%5B-2%5D%20%3D%20%27ronald%27%0A%0A%23%20Adding%20an%20element%20to%20the%20end%20of%20the%20list%0Ausers.append%28%27Amy%27%29&origin=opt-frontend.js&cumulative=false&heapPrimitives=false&textReferences=false&py=3&rawInputLstJSON=%5B%5D&curInstr=0&codeDivWidth=350&codeDivHeight=400\"\n",
              "            frameborder=\"0\"\n",
              "            allowfullscreen\n",
              "        ></iframe>\n",
              "        "
            ],
            "text/plain": [
              "<IPython.lib.display.IFrame at 0x7f3912c72150>"
            ]
          },
          "metadata": {}
        }
      ]
    },
    {
      "cell_type": "markdown",
      "metadata": {
        "id": "4SxyvRDpdP8n"
      },
      "source": [
        "Loops are often used in programs that compute numerical results by starting with an approximate answer and iteratively improving it.\n",
        "\n",
        "For example, one way of computing square roots is Newton’s method. Suppose that you want to know the square root of a. If you start with almost any estimate, x, you can compute a better estimate with the following formula:\n",
        "\n",
        "$y = \\frac{x + a/x}{2}$\n",
        " "
      ]
    },
    {
      "cell_type": "code",
      "metadata": {
        "colab": {
          "base_uri": "https://localhost:8080/",
          "height": 521
        },
        "id": "6uGE6B21bjER",
        "outputId": "4a785249-fcb4-47ef-bc07-d23f66d17a3a"
      },
      "source": [
        "%%tutor\n",
        "\n",
        "a = 155\n",
        "x = 77.5\n",
        "while True:\n",
        "    print(x)\n",
        "    y = (x + a/x) / 2\n",
        "    if y == x:\n",
        "        break\n",
        "    x = y"
      ],
      "execution_count": 12,
      "outputs": [
        {
          "output_type": "display_data",
          "data": {
            "text/html": [
              "\n",
              "        <iframe\n",
              "            width=\"100%\"\n",
              "            height=\"500\"\n",
              "            src=\"https://pythontutor.com/iframe-embed.html#code=%0Aa%20%3D%20155%0Ax%20%3D%2077.5%0Awhile%20True%3A%0A%20%20%20%20print%28x%29%0A%20%20%20%20y%20%3D%20%28x%20%2B%20a/x%29%20/%202%0A%20%20%20%20if%20y%20%3D%3D%20x%3A%0A%20%20%20%20%20%20%20%20break%0A%20%20%20%20x%20%3D%20y&origin=opt-frontend.js&cumulative=false&heapPrimitives=false&textReferences=false&py=3&rawInputLstJSON=%5B%5D&curInstr=0&codeDivWidth=350&codeDivHeight=400\"\n",
              "            frameborder=\"0\"\n",
              "            allowfullscreen\n",
              "        ></iframe>\n",
              "        "
            ],
            "text/plain": [
              "<IPython.lib.display.IFrame at 0x7f390eb49850>"
            ]
          },
          "metadata": {}
        }
      ]
    },
    {
      "cell_type": "code",
      "metadata": {
        "colab": {
          "base_uri": "https://localhost:8080/"
        },
        "id": "VqCxjGd2cIqV",
        "outputId": "0d6caf11-547d-4663-914a-f1f97e297ae4"
      },
      "source": [
        "print(2.23606797749979*2.23606797749979)"
      ],
      "execution_count": 9,
      "outputs": [
        {
          "output_type": "stream",
          "name": "stdout",
          "text": [
            "5.000000000000001\n"
          ]
        }
      ]
    }
  ]
}